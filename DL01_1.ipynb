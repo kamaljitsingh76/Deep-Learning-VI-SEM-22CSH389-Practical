{
  "cells": [
    {
      "cell_type": "markdown",
      "metadata": {
        "id": "view-in-github",
        "colab_type": "text"
      },
      "source": [
        "<a href=\"https://colab.research.google.com/github/kamaljitsingh76/Deep-Learning-VI-SEM-22CSH389-Practical/blob/main/DL01_1.ipynb\" target=\"_parent\"><img src=\"https://colab.research.google.com/assets/colab-badge.svg\" alt=\"Open In Colab\"/></a>"
      ]
    },
    {
      "cell_type": "code",
      "execution_count": null,
      "id": "f93492bb",
      "metadata": {
        "id": "f93492bb",
        "outputId": "4a5c37f0-432c-424a-8b7c-268f07ed7e8d"
      },
      "outputs": [
        {
          "name": "stdout",
          "output_type": "stream",
          "text": [
            "Enter number of elements : 3\n",
            "Enter the inputs\n",
            "4\n",
            "5\n",
            "3\n",
            "[4.0, 5.0, 3.0]\n",
            "Enter the weights\n",
            "2\n",
            "5\n",
            "8\n",
            "[2.0, 5.0, 8.0]\n",
            "The net input can be calculated as Yin = x1w1 + x2w2 + x3w3\n",
            "57.0\n",
            "1.0\n"
          ]
        }
      ],
      "source": [
        "#Experiment 1.1 Create a perceptron and apply sigmoid activation\n",
        "\n",
        "\n",
        "n = int(input(\"Enter number of elements : \")) # number of elements as input\n",
        "\n",
        "print(\"Enter the inputs\")\n",
        "inputs = [] # creating an empty list for inputs\n",
        "\n",
        "for i in range(0, n): # iterating till the range\n",
        "    ele = float(input())\n",
        "    inputs.append(ele) # adding the element\n",
        "\n",
        "print(inputs)\n",
        "\n",
        "weights = []\n",
        "print(\"Enter the weights\")\n",
        "\n",
        "\n",
        "for i in range(0, n): # iterating till the range\n",
        "    ele = float(input())\n",
        "    weights.append(ele) # adding the element\n",
        "\n",
        "print(weights)\n",
        "\n",
        "print(\"The net input can be calculated as Yin = x1w1 + x2w2 + x3w3\")\n",
        "\n",
        "Yin = []\n",
        "\n",
        "for i in range(0, n):\n",
        "    Yin.append(inputs[i]*weights[i])\n",
        "\n",
        "Y_out = (round(sum(Yin),3))\n",
        "\n",
        "print(Y_out)\n",
        "\n",
        "#Apply sigmoid activation\n",
        "\n",
        "import numpy as np\n",
        "\n",
        "Y_act = 1/(1 + np.exp(-Y_out))\n",
        "\n",
        "print(Y_act)"
      ]
    },
    {
      "cell_type": "code",
      "execution_count": null,
      "id": "90ce3b51",
      "metadata": {
        "id": "90ce3b51"
      },
      "outputs": [],
      "source": []
    }
  ],
  "metadata": {
    "kernelspec": {
      "display_name": "Python 3 (ipykernel)",
      "language": "python",
      "name": "python3"
    },
    "language_info": {
      "codemirror_mode": {
        "name": "ipython",
        "version": 3
      },
      "file_extension": ".py",
      "mimetype": "text/x-python",
      "name": "python",
      "nbconvert_exporter": "python",
      "pygments_lexer": "ipython3",
      "version": "3.10.12"
    },
    "colab": {
      "provenance": [],
      "include_colab_link": true
    }
  },
  "nbformat": 4,
  "nbformat_minor": 5
}